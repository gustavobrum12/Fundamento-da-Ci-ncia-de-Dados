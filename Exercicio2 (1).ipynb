{
  "nbformat": 4,
  "nbformat_minor": 0,
  "metadata": {
    "colab": {
      "provenance": []
    },
    "kernelspec": {
      "name": "python3",
      "display_name": "Python 3"
    },
    "language_info": {
      "name": "python"
    }
  },
  "cells": [
    {
      "cell_type": "code",
      "execution_count": 20,
      "metadata": {
        "colab": {
          "base_uri": "https://localhost:8080/"
        },
        "id": "UkKzV1d2JEDz",
        "outputId": "c3cf75df-4b05-4fe2-980c-d1e768f07a45"
      },
      "outputs": [
        {
          "output_type": "stream",
          "name": "stdout",
          "text": [
            "Meu nome é Gustavo, tenho 20 anos e minha altura é 1,75 metros.\n"
          ]
        }
      ],
      "source": [
        "## EXERCICIO 1\n",
        "nome = \"Gustavo\"\n",
        "idade = \"20\"\n",
        "altura = \"1,75\"\n",
        "# Mostre na tela a concatenação das informações: \"Meu nome é [nome], tenho [idade] anos e minha altura é [altura] metros.\"\n",
        "print(\"Meu nome é {a}, tenho {b} anos e minha altura é {c} metros.\".format(a = nome, b = idade, c = altura))"
      ]
    },
    {
      "cell_type": "code",
      "source": [
        "## EXERCICIO 2\n",
        "# Crie uma variável chamada frase e atribua a seguinte frase a ela: \"Python é uma linguagem de programação muito poderosa.\"\n",
        "frase = \"Python é uma linguagem de programação muito poderosa.\"\n",
        "# Utilize o método .upper() para transformar toda a frase em maiúsculas e imprima o resultado.\n",
        "print(frase.upper())"
      ],
      "metadata": {
        "colab": {
          "base_uri": "https://localhost:8080/"
        },
        "id": "0lm41Y5wLttZ",
        "outputId": "63a12fb8-d076-461a-f42a-f5ce475c36b0"
      },
      "execution_count": 21,
      "outputs": [
        {
          "output_type": "stream",
          "name": "stdout",
          "text": [
            "PYTHON É UMA LINGUAGEM DE PROGRAMAÇÃO MUITO PODEROSA.\n"
          ]
        }
      ]
    },
    {
      "cell_type": "code",
      "source": [
        "# Utilize o método .lower() para transformar toda a frase em minúsculas e imprima o resultado.\n",
        "print(frase.lower())"
      ],
      "metadata": {
        "colab": {
          "base_uri": "https://localhost:8080/"
        },
        "id": "UOORBstAP6_U",
        "outputId": "3981a2e0-9443-47d1-fa2f-32bcaf3f20d2"
      },
      "execution_count": 22,
      "outputs": [
        {
          "output_type": "stream",
          "name": "stdout",
          "text": [
            "python é uma linguagem de programação muito poderosa.\n"
          ]
        }
      ]
    },
    {
      "cell_type": "code",
      "source": [
        "# Utilize o método .replace() para substituir a palavra \"muito\" por \"extremamente\". Imprima o resultado.\n",
        "print(frase.replace(\"muito\",\"extremamente\"))"
      ],
      "metadata": {
        "colab": {
          "base_uri": "https://localhost:8080/"
        },
        "id": "tnQHoCvAQPWA",
        "outputId": "e1308a78-cca4-4812-ec15-51cfff65b50b"
      },
      "execution_count": 23,
      "outputs": [
        {
          "output_type": "stream",
          "name": "stdout",
          "text": [
            "Python é uma linguagem de programação extremamente poderosa.\n"
          ]
        }
      ]
    },
    {
      "cell_type": "code",
      "source": [
        "# Utilize o método .split() para dividir a frase em palavras e imprima o resultado como uma lista.\n",
        "frase.split()"
      ],
      "metadata": {
        "colab": {
          "base_uri": "https://localhost:8080/"
        },
        "id": "-fhH8-8IQTDR",
        "outputId": "4d55753c-6b3b-4e40-cea7-6a1a0d9a9e0d"
      },
      "execution_count": 24,
      "outputs": [
        {
          "output_type": "execute_result",
          "data": {
            "text/plain": [
              "['Python', 'é', 'uma', 'linguagem', 'de', 'programação', 'muito', 'poderosa.']"
            ]
          },
          "metadata": {},
          "execution_count": 24
        }
      ]
    },
    {
      "cell_type": "code",
      "source": [
        "## EXERCICIO 3\n",
        "# Crie uma lista chamada frutas contendo os seguintes itens: \"maçã\", \"banana\", \"laranja\", \"uva\", \"abacaxi\".\n",
        "frutas = [\"maçã\",\"banana\",\"laranja\",\"uva\",\"abacaxi\"]\n",
        "# Imprima a lista frutas.\n",
        "print(frutas)"
      ],
      "metadata": {
        "colab": {
          "base_uri": "https://localhost:8080/"
        },
        "id": "3P6ovZXBQbLA",
        "outputId": "74b019e8-f686-42f5-d759-2aad9c91e843"
      },
      "execution_count": 25,
      "outputs": [
        {
          "output_type": "stream",
          "name": "stdout",
          "text": [
            "['maçã', 'banana', 'laranja', 'uva', 'abacaxi']\n"
          ]
        }
      ]
    },
    {
      "cell_type": "code",
      "source": [
        "# Adicione o item \"manga\" à lista frutas utilizando o método .append() e imprima a lista novamente.\n",
        "frutas.append(\"manga\")\n",
        "print(frutas)"
      ],
      "metadata": {
        "colab": {
          "base_uri": "https://localhost:8080/"
        },
        "id": "edP42wQXQkwI",
        "outputId": "7a50953c-4b97-4e43-8da0-b4dbb2deed97"
      },
      "execution_count": 26,
      "outputs": [
        {
          "output_type": "stream",
          "name": "stdout",
          "text": [
            "['maçã', 'banana', 'laranja', 'uva', 'abacaxi', 'manga']\n"
          ]
        }
      ]
    },
    {
      "cell_type": "code",
      "source": [
        "# Remova o item \"laranja\" da lista frutas utilizando o método .remove() e imprima a lista.\n",
        "frutas.remove(\"laranja\")\n",
        "print(frutas)"
      ],
      "metadata": {
        "colab": {
          "base_uri": "https://localhost:8080/"
        },
        "id": "9FY1Z6t2Qp0X",
        "outputId": "eae98474-647b-44fc-d790-167110bf8226"
      },
      "execution_count": 27,
      "outputs": [
        {
          "output_type": "stream",
          "name": "stdout",
          "text": [
            "['maçã', 'banana', 'uva', 'abacaxi', 'manga']\n"
          ]
        }
      ]
    },
    {
      "cell_type": "code",
      "source": [
        "# Acesse o terceiro item da lista frutas (lembrando que as listas começam em 0) e imprima-o.\n",
        "print(frutas[2])"
      ],
      "metadata": {
        "colab": {
          "base_uri": "https://localhost:8080/"
        },
        "id": "PnYfCM01Qwpz",
        "outputId": "4754d7b4-fcea-4101-b839-4d757ff4a619"
      },
      "execution_count": 31,
      "outputs": [
        {
          "output_type": "stream",
          "name": "stdout",
          "text": [
            "uva\n"
          ]
        }
      ]
    },
    {
      "cell_type": "code",
      "source": [
        "# Ordene a lista frutas em ordem alfabética utilizando o método .sort() e imprima a lista.\n",
        "frutas.sort()\n",
        "print(frutas)"
      ],
      "metadata": {
        "colab": {
          "base_uri": "https://localhost:8080/"
        },
        "id": "VXa1MEY7RCNi",
        "outputId": "cd8bea32-c60b-4082-b68d-0ab751e5a4b0"
      },
      "execution_count": 32,
      "outputs": [
        {
          "output_type": "stream",
          "name": "stdout",
          "text": [
            "['abacaxi', 'banana', 'manga', 'maçã', 'uva']\n"
          ]
        }
      ]
    },
    {
      "cell_type": "code",
      "source": [
        "# Crie uma lista chamada numeros com os valores [10, 5, 8, 3, 6]. Utilize a função sum() para calcular a soma de todos os elementos dessa lista e imprima o resultado.\n",
        "numeros = [10,5,8,3,6]\n",
        "sum(numeros)"
      ],
      "metadata": {
        "colab": {
          "base_uri": "https://localhost:8080/"
        },
        "id": "u2bwfgIeRKDw",
        "outputId": "d1badf04-43a1-4b1b-9bd3-f1226f003154"
      },
      "execution_count": 33,
      "outputs": [
        {
          "output_type": "execute_result",
          "data": {
            "text/plain": [
              "32"
            ]
          },
          "metadata": {},
          "execution_count": 33
        }
      ]
    },
    {
      "cell_type": "code",
      "source": [
        "## EXERCICIO 4\n",
        "# Crie um dicionário chamado pessoa com as seguintes chaves e valores: \"nome\": \"Carlos\" \"idade\": 30 \"cidade\": \"São Paulo\"\n",
        "pessoa = {\n",
        "    \"nome2\" : \"Carlos\",\n",
        "    \"ïdade\" : 30,\n",
        "    \"cidade\" : \"Sao Paulo\"\n",
        "}\n",
        "# Imprima o dicionário pessoa\n",
        "print(pessoa)"
      ],
      "metadata": {
        "colab": {
          "base_uri": "https://localhost:8080/"
        },
        "id": "_vygjIiWUBCK",
        "outputId": "a0bd485d-bf58-4928-f5ac-2bd8c535ff39"
      },
      "execution_count": 59,
      "outputs": [
        {
          "output_type": "stream",
          "name": "stdout",
          "text": [
            "{'nome2': 'Carlos', 'ïdade': 30, 'cidade': 'Sao Paulo'}\n"
          ]
        }
      ]
    },
    {
      "cell_type": "code",
      "source": [
        "# Acesse e imprima o valor associado à chave \"nome\".\n",
        "print(pessoa[\"nome2\"])"
      ],
      "metadata": {
        "colab": {
          "base_uri": "https://localhost:8080/"
        },
        "id": "WN2EYsuMW5ek",
        "outputId": "28e1ff58-4114-4d59-80a6-07413a0c60e7"
      },
      "execution_count": 60,
      "outputs": [
        {
          "output_type": "stream",
          "name": "stdout",
          "text": [
            "Carlos\n"
          ]
        }
      ]
    },
    {
      "cell_type": "code",
      "source": [
        "# Altere a idade de \"Carlos\" para 31 e imprima o dicionário novamente.\n",
        "pessoa.update ({\"ïdade\" : 31})\n",
        "print(pessoa)"
      ],
      "metadata": {
        "colab": {
          "base_uri": "https://localhost:8080/"
        },
        "id": "vng6v2AvXEdu",
        "outputId": "38dcc390-cce5-4df9-ed1e-4ff33be2c439"
      },
      "execution_count": 65,
      "outputs": [
        {
          "output_type": "stream",
          "name": "stdout",
          "text": [
            "{'nome2': 'Carlos', 'ïdade': 31, 'cidade': 'Sao Paulo'}\n"
          ]
        }
      ]
    },
    {
      "cell_type": "code",
      "source": [
        "# Adicione uma nova chave \"profissão\" ao dicionário com o valor \"engenheiro\". Imprima o dicionário atualizado.\n",
        "pessoa[\"profissao\"] = \"engenheiro\"\n",
        "print(pessoa)"
      ],
      "metadata": {
        "colab": {
          "base_uri": "https://localhost:8080/"
        },
        "id": "uusBOwLmdrb9",
        "outputId": "73fb2d53-c911-42bd-a8be-5a431eecca30"
      },
      "execution_count": 69,
      "outputs": [
        {
          "output_type": "stream",
          "name": "stdout",
          "text": [
            "{'nome2': 'Carlos', 'ïdade': 31, 'cidade': 'Sao Paulo', 'profissao': 'engenheiro'}\n"
          ]
        }
      ]
    },
    {
      "cell_type": "code",
      "source": [
        "# Remova a chave \"cidade\" do dicionário e imprima o dicionário após a remoção\n",
        "del pessoa[\"cidade\"]\n",
        "print(pessoa)"
      ],
      "metadata": {
        "colab": {
          "base_uri": "https://localhost:8080/"
        },
        "id": "LJ8Fm_2seRAs",
        "outputId": "6610c05c-7a06-40a4-aee9-84ebd3edf9bb"
      },
      "execution_count": 80,
      "outputs": [
        {
          "output_type": "stream",
          "name": "stdout",
          "text": [
            "{'nome2': 'Carlos', 'ïdade': 31, 'profissao': 'engenheiro'}\n"
          ]
        }
      ]
    },
    {
      "cell_type": "code",
      "source": [
        "# Utilize o método .keys() para imprimir todas as chaves do dicionário\n",
        "pessoa.keys()"
      ],
      "metadata": {
        "colab": {
          "base_uri": "https://localhost:8080/"
        },
        "id": "zE_Y04CDfuLG",
        "outputId": "36e92eb2-9b75-421f-aa94-2c7d28a58ed1"
      },
      "execution_count": 81,
      "outputs": [
        {
          "output_type": "execute_result",
          "data": {
            "text/plain": [
              "dict_keys(['nome2', 'ïdade', 'profissao'])"
            ]
          },
          "metadata": {},
          "execution_count": 81
        }
      ]
    },
    {
      "cell_type": "code",
      "source": [
        "# Utilize o método .values() para imprimir todos os valores do dicionário.\n",
        "pessoa.values()"
      ],
      "metadata": {
        "colab": {
          "base_uri": "https://localhost:8080/"
        },
        "id": "SkFhq9STf_5u",
        "outputId": "30cf897a-46fd-4a28-a220-e7e457a1d080"
      },
      "execution_count": 82,
      "outputs": [
        {
          "output_type": "execute_result",
          "data": {
            "text/plain": [
              "dict_values(['Carlos', 31, 'engenheiro'])"
            ]
          },
          "metadata": {},
          "execution_count": 82
        }
      ]
    },
    {
      "cell_type": "code",
      "source": [
        "## EXERCICIO 5\n",
        "# Crie uma tupla chamada cores contendo as seguintes cores: \"vermelho\", \"azul\", \"verde\", \"amarelo\", \"roxo\".\n",
        "# Imprima a tupla cores.\n",
        "cores_tupla = (\"vermelho\",\"azul\",\"verde\", \"amarelo\", \"roxo\")\n",
        "print(cores_tupla)"
      ],
      "metadata": {
        "colab": {
          "base_uri": "https://localhost:8080/"
        },
        "id": "d7qYWI5_gawN",
        "outputId": "e773631d-d0d4-456e-b24b-a20f69deed99"
      },
      "execution_count": 97,
      "outputs": [
        {
          "output_type": "stream",
          "name": "stdout",
          "text": [
            "('vermelho', 'azul', 'verde', 'amarelo', 'roxo')\n"
          ]
        }
      ]
    },
    {
      "cell_type": "code",
      "source": [
        "# Acesse e imprima o segundo item da tupla cores.\n",
        "print(cores_tupla[1])"
      ],
      "metadata": {
        "colab": {
          "base_uri": "https://localhost:8080/"
        },
        "id": "UM_LQ13HhAjC",
        "outputId": "6d04a568-cfe3-4fca-a09b-a8639e6ee7b6"
      },
      "execution_count": 84,
      "outputs": [
        {
          "output_type": "stream",
          "name": "stdout",
          "text": [
            "azul\n"
          ]
        }
      ]
    },
    {
      "cell_type": "code",
      "source": [
        "# Verifique se a cor \"azul\" está presente na tupla cores e imprima True ou False dependendo da resposta.\n",
        "if \"azul\" in cores_tupla : print(\"true\")\n",
        "else : print(\"false\")"
      ],
      "metadata": {
        "colab": {
          "base_uri": "https://localhost:8080/"
        },
        "id": "K8JwY2C6hH2S",
        "outputId": "f8e36b30-950b-42e9-d300-0ac358b7683d"
      },
      "execution_count": 87,
      "outputs": [
        {
          "output_type": "stream",
          "name": "stdout",
          "text": [
            "true\n"
          ]
        }
      ]
    },
    {
      "cell_type": "code",
      "source": [
        "# Crie uma tupla chamada numeros contendo os números (1, 2, 3, 4, 5).\n",
        "numero_tupla = (1, 2, 3, 4, 5)\n",
        "print(numero_tupla)"
      ],
      "metadata": {
        "colab": {
          "base_uri": "https://localhost:8080/"
        },
        "id": "OS4h2WFBhq7o",
        "outputId": "cceb50f6-e1a5-46e9-a010-a02b763cb95e"
      },
      "execution_count": 88,
      "outputs": [
        {
          "output_type": "stream",
          "name": "stdout",
          "text": [
            "(1, 2, 3, 4, 5)\n"
          ]
        }
      ]
    },
    {
      "cell_type": "code",
      "source": [
        "# Some todos os elementos da tupla numeros e imprima o resultado.\n",
        "sum(numero_tupla)"
      ],
      "metadata": {
        "colab": {
          "base_uri": "https://localhost:8080/"
        },
        "id": "egEnTOfrjbl_",
        "outputId": "954925f5-152a-4ecf-845e-3fa3afaa28d9"
      },
      "execution_count": 89,
      "outputs": [
        {
          "output_type": "execute_result",
          "data": {
            "text/plain": [
              "15"
            ]
          },
          "metadata": {},
          "execution_count": 89
        }
      ]
    },
    {
      "cell_type": "code",
      "source": [
        "# Tente alterar o valor do terceiro item da tupla cores para \"laranja\". O que acontece? Explique por que não é possível alterar um valor em uma tupla.\n",
        "# numero_tupla[2] = \"laranja\"\n",
        "# o problema ocorre porque uma tupla nao podem ser modificadas"
      ],
      "metadata": {
        "id": "-SakhwDnjqLX"
      },
      "execution_count": 92,
      "outputs": []
    },
    {
      "cell_type": "code",
      "source": [
        "# Crie uma nova tupla chamada nova_cores que seja a concatenação da tupla cores com uma nova tupla (\"preto\", \"branco\") e imprima o resultado.\n",
        "nova_cores_tupla = (cores_tupla, \"preto\", \"branco\")\n",
        "print(nova_cores_tupla)"
      ],
      "metadata": {
        "colab": {
          "base_uri": "https://localhost:8080/"
        },
        "id": "zjFF0PXakN_R",
        "outputId": "fbf91789-3fe8-49db-a2a9-abd7e08a7ee8"
      },
      "execution_count": 96,
      "outputs": [
        {
          "output_type": "stream",
          "name": "stdout",
          "text": [
            "(('vermelho', 'azul', 'verde', 'amarelo', 'roxo'), 'preto', 'branco')\n"
          ]
        }
      ]
    },
    {
      "cell_type": "markdown",
      "source": [],
      "metadata": {
        "id": "MGRwUGhBMEpk"
      }
    },
    {
      "cell_type": "code",
      "source": [
        "## EXERCICIO 6\n",
        "# Crie um programa que receba a altura e o peso de uma pessoa e imprima seu IMC.\n",
        "print(\"*Utilize ponto ao inves de virgula para responder o questionario*\")\n",
        "print(\"Digite sua altura (em metros):\")\n",
        "altura = input()\n",
        "print(\"Digite seu peso (em quilogramas):\")\n",
        "peso = input()\n",
        "IMC = float(peso)/(float(altura) ** 2)\n",
        "print(\"O seu IMC é:\",round(IMC,2))"
      ],
      "metadata": {
        "colab": {
          "base_uri": "https://localhost:8080/"
        },
        "id": "0anljGI1RT6d",
        "outputId": "50e1b6ce-4ba3-475d-c006-ff1c4a8d2406"
      },
      "execution_count": 36,
      "outputs": [
        {
          "output_type": "stream",
          "name": "stdout",
          "text": [
            "*Utilize ponto ao inves de virgula para responder o questionario*\n",
            "Digite sua altura (em metros):\n",
            "1.70\n",
            "Digite seu peso (em quilogramas):\n",
            "75\n",
            "O seu IMC é: 25.95\n"
          ]
        }
      ]
    },
    {
      "cell_type": "code",
      "source": [
        "## EXERCICIO 7\n",
        "#Escreva um programa que pergunte o nome completo do usuário e o cumprimente pelo primeiro nome.\n",
        "print(\"Digite o seu nome completo:\")\n",
        "nome3 = input()\n",
        "lista = nome3.split()\n",
        "print(\"Olá,\", lista[0])"
      ],
      "metadata": {
        "colab": {
          "base_uri": "https://localhost:8080/"
        },
        "id": "94a0NsuXSHP_",
        "outputId": "dafcbf67-bd1a-4128-c340-d46fb6f4cace"
      },
      "execution_count": 1,
      "outputs": [
        {
          "output_type": "stream",
          "name": "stdout",
          "text": [
            "Digite o seu nome completo:\n",
            "Gustavo Profiro Coelho Brum\n",
            "Olá, Gustavo\n"
          ]
        }
      ]
    },
    {
      "cell_type": "code",
      "source": [
        "## EXERCICIO 8\n",
        "#Escreva um código que extraia o domínio de um e-mail informado.\n",
        "print(\"Digite o seu e-mail:\")\n",
        "email = input()\n",
        "email_separado = email.split(\"@\")\n",
        "print(\"O domínio do seu e-mail é:\",email_separado[1])"
      ],
      "metadata": {
        "colab": {
          "base_uri": "https://localhost:8080/"
        },
        "id": "RokqlBCRSYT9",
        "outputId": "0a98d135-b2e1-4797-cf7a-3691cf0ce3be"
      },
      "execution_count": 38,
      "outputs": [
        {
          "output_type": "stream",
          "name": "stdout",
          "text": [
            "Digite o seu e-mail:\n",
            "psceru@hotmail.com\n",
            "O domínio do seu e-mail é: hotmail.com\n"
          ]
        }
      ]
    },
    {
      "cell_type": "code",
      "source": [
        "## EXERCICIO 9\n",
        "# Faça um programa que pergunte quanto você ganha por hora e o número de horas trabalhadas no mês. Calcule e mostre o total do seu salário no referido mês, sabendo-se que são\n",
        "# descontados 11% para o imposto de renda, 8% para o INSS e 5% para o sindicato. O programa deve mostrar: salário bruto, quanto pagou ao INSS, quanto pagou ao sindicato, salário líquido.\n",
        "print(\"Digite quanto você ganha por hora:\")\n",
        "horas_ganho = input()\n",
        "print(\"Digite quantas horas você trabalhou:\")\n",
        "horas_trab = input()\n",
        "salario_bruto = float(horas_ganho) * float(horas_trab)\n",
        "print(\"Seu salário bruto foi:\",salario_bruto)\n",
        "desc_imp_renda = salario_bruto * 0.11\n",
        "print(\"Seu desconto de imposto de renda foi:\", desc_imp_renda)\n",
        "desc_inss = salario_bruto * 0.08\n",
        "print(\"Seu desconto de inss foi:\", desc_inss)\n",
        "desc_sind = salario_bruto * 0.05\n",
        "print(\"Seu desconto de sindicato foi:\", desc_sind)\n",
        "salario_liquido = salario_bruto - (desc_imp_renda + desc_inss + desc_sind)\n",
        "print(\"Seu salário líquido foi:\",salario_liquido)"
      ],
      "metadata": {
        "colab": {
          "base_uri": "https://localhost:8080/"
        },
        "id": "HTHw_IHckuqf",
        "outputId": "3bc1e482-49d7-4575-d4c1-f89b78013580"
      },
      "execution_count": 17,
      "outputs": [
        {
          "output_type": "stream",
          "name": "stdout",
          "text": [
            "Digite quanto você ganha por hora:\n",
            "10\n",
            "Digite quantas horas você trabalhou:\n",
            "10\n",
            "Seu salário bruto foi: 100.0\n",
            "Seu desconto de imposto de renda foi: 11.0\n",
            "Seu desconto de inss foi: 8.0\n",
            "Seu desconto de sindicato foi: 5.0\n",
            "Seu salário líquido foi: 76.0\n"
          ]
        }
      ]
    }
  ]
}