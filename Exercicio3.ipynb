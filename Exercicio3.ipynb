{
  "nbformat": 4,
  "nbformat_minor": 0,
  "metadata": {
    "colab": {
      "provenance": []
    },
    "kernelspec": {
      "name": "python3",
      "display_name": "Python 3"
    },
    "language_info": {
      "name": "python"
    }
  },
  "cells": [
    {
      "cell_type": "code",
      "execution_count": 4,
      "metadata": {
        "colab": {
          "base_uri": "https://localhost:8080/"
        },
        "id": "w8-a-gqiDnzL",
        "outputId": "84cd62c7-66b5-47cd-c6bb-b8f1391e8f47"
      },
      "outputs": [
        {
          "output_type": "stream",
          "name": "stdout",
          "text": [
            "Digite a primeira nota: \n",
            "5\n",
            "Digite a segunda nota: \n",
            "5\n",
            "Reprovado\n"
          ]
        }
      ],
      "source": [
        "## Exercicio 1\n",
        "print(\"Digite a primeira nota: \")\n",
        "nota_1 = float(input())\n",
        "print(\"Digite a segunda nota: \")\n",
        "nota_2 = float(input())\n",
        "media = (nota_1 + nota_2) / 2\n",
        "if media == 10:\n",
        "    print(\"Aprovado com Distinção\")\n",
        "elif media >= 7:\n",
        "    print(\"Aprovado\")\n",
        "else:\n",
        "    print(\"Reprovado\")"
      ]
    },
    {
      "cell_type": "code",
      "source": [
        "## Exercicio 2\n",
        "print(\"Digite um número: \")\n",
        "numero_1 = float(input())\n",
        "print(\"Digite outro número: \")\n",
        "numero_2 = float(input())\n",
        "print(\"Digite mais um número: \")\n",
        "numero_3 = float(input())\n",
        "if numero_1 > numero_2 and numero_1 > numero_3:\n",
        "  print(\"O maior número é o {}\".format(numero_1))\n",
        "elif numero_2 > numero_1 and numero_2 > numero_3:\n",
        "  print(\"O maior número é o {}\".format(numero_2))\n",
        "else:\n",
        "  print(\"O maior número é o {}\".format(numero_3))\n",
        "if numero_1 < numero_2 and numero_1 < numero_3:\n",
        "  print(\"O menor número é o {}\".format(numero_1))\n",
        "elif numero_2 < numero_1 and numero_2 < numero_3:\n",
        "  print(\"O menor número é o {}\".format(numero_2))\n",
        "else:\n",
        "  print(\"O menor número é o {}\".format(numero_3))"
      ],
      "metadata": {
        "colab": {
          "base_uri": "https://localhost:8080/"
        },
        "id": "VNHWl3TOD99s",
        "outputId": "6e1807dd-90b1-49b6-e012-8cd140a2e20f"
      },
      "execution_count": 12,
      "outputs": [
        {
          "output_type": "stream",
          "name": "stdout",
          "text": [
            "Digite um número: \n",
            "3\n",
            "Digite outro número: \n",
            "1\n",
            "Digite mais um número: \n",
            "2\n",
            "O maior número é o 3.0\n",
            "O menor número é o 1.0\n"
          ]
        }
      ]
    },
    {
      "cell_type": "code",
      "source": [
        "## Exercicio 3\n",
        "print(\"Digite um nome: \")\n",
        "nome = input()\n",
        "for i in range(len(nome)):\n",
        "  print(nome[:i+1])"
      ],
      "metadata": {
        "colab": {
          "base_uri": "https://localhost:8080/"
        },
        "id": "wAiDs_QmE7_s",
        "outputId": "c81c3a4f-38e4-4539-eab3-e2ba4c83f82c"
      },
      "execution_count": 13,
      "outputs": [
        {
          "output_type": "stream",
          "name": "stdout",
          "text": [
            "Digite um nome: \n",
            "gustavo\n",
            "g\n",
            "gu\n",
            "gus\n",
            "gust\n",
            "gusta\n",
            "gustav\n",
            "gustavo\n"
          ]
        }
      ]
    },
    {
      "cell_type": "code",
      "source": [
        "## Exercicio 4\n",
        "print(\"Digite o valor de n: \")\n",
        "n = int(input())\n",
        "a, b = 1, 1\n",
        "print(\"Na sequência de Fibonacci:\")\n",
        "for i in range(n):\n",
        "  print(a, end=\" \") #end=\" \" para não pular uma linha depois de imprimir\n",
        "  a, b = b, a + b"
      ],
      "metadata": {
        "colab": {
          "base_uri": "https://localhost:8080/"
        },
        "id": "lOt_kmqOFCkM",
        "outputId": "55fc7351-8a4b-4044-8c4d-e7f7e9c2b88b"
      },
      "execution_count": 16,
      "outputs": [
        {
          "output_type": "stream",
          "name": "stdout",
          "text": [
            "Digite o valor de n: \n",
            "45\n",
            "Na sequência de Fibonacci:\n",
            "1 1 2 3 5 8 13 21 34 55 89 144 233 377 610 987 1597 2584 4181 6765 10946 17711 28657 46368 75025 121393 196418 317811 514229 832040 1346269 2178309 3524578 5702887 9227465 14930352 24157817 39088169 63245986 102334155 165580141 267914296 433494437 701408733 1134903170 "
          ]
        }
      ]
    },
    {
      "cell_type": "code",
      "source": [
        "## Exercicio 5\n",
        "print(\"Digite um nome: \")\n",
        "nome = input()\n",
        "while len(nome) <= 3:\n",
        "  print(\"O nome deve ter mais de 3 caracteres\")\n",
        "  print(\"Digite um nome: \")\n",
        "  nome = input()\n",
        "print(\"Digite a idade: \")\n",
        "idade = int(input())\n",
        "while idade < 0 or idade > 150:\n",
        "  print(\"A idade deve ser > 0 e < 150\")\n",
        "  print(\"Digite a idade: \")\n",
        "  idade = int(input())\n",
        "print(\"Digite o salário: \")\n",
        "salario = float(input())\n",
        "while salario <= 0:\n",
        "  print(\"O salário deve ser > 0\")\n",
        "  print(\"Digite o salário: \")\n",
        "  salario = float(input())\n",
        "print(\"Digite o sexo (f ou m): \")\n",
        "sexo = input()\n",
        "while sexo != 'f' and sexo != 'm':\n",
        "  print(\"O sexo deve ser f ou m\")\n",
        "  print(\"Digite o sexo: \")\n",
        "  sexo = input()\n",
        "print(\"Digite o estado civil (s para solteiro, c para casado, v para viúvo, d para divorciado): \")\n",
        "estado_civil = input()\n",
        "while estado_civil != 's' and estado_civil != 'c' and estado_civil != 'v' and estado_civil != 'd':\n",
        "  print(\"O estado civil deve ser s, c, v ou d\")\n",
        "  print(\"Digite o estado civil: \")\n",
        "  estado_civil = input()\n",
        "print()\n",
        "print(\"Nome: {}\".format(nome))\n",
        "print(\"Idade: {}\".format(idade))\n",
        "print(\"Salário: R${:.2f}\".format(salario))\n",
        "if sexo == 'f':\n",
        "  print(\"Sexo: Feminino\")\n",
        "else:\n",
        "  print(\"Sexo: Masculino\")\n",
        "if estado_civil == 's':\n",
        "  print(\"Estado civil: Solteiro\")\n",
        "elif estado_civil == 'c':\n",
        "  print(\"Estado civil: Casado\")\n",
        "elif estado_civil == 'v':\n",
        "  print(\"Estado civil: Viúvo\")\n",
        "else:\n",
        "  print(\"Estado civil: Divorciado\")"
      ],
      "metadata": {
        "colab": {
          "base_uri": "https://localhost:8080/"
        },
        "id": "iJeFHAD-FRQJ",
        "outputId": "11318c45-a1a6-40b8-a1c2-cc9b3f6fef59"
      },
      "execution_count": 18,
      "outputs": [
        {
          "output_type": "stream",
          "name": "stdout",
          "text": [
            "Digite um nome: \n",
            "gustavo\n",
            "Digite a idade: \n",
            "20\n",
            "Digite o salário: \n",
            "1570\n",
            "Digite o sexo (f ou m): \n",
            "m\n",
            "Digite o estado civil (s para solteiro, c para casado, v para viúvo, d para divorciado): \n",
            "s\n",
            "\n",
            "Nome: gustavo\n",
            "Idade: 20\n",
            "Salário: R$1570.00\n",
            "Sexo: Masculino\n",
            "Estado civil: Solteiro\n"
          ]
        }
      ]
    },
    {
      "cell_type": "code",
      "source": [
        "## Exercicio 6\n",
        "print(\"Digite um número inteiro: \")\n",
        "numeral = int(input())\n",
        "veri = True\n",
        "if numeral <= 1:\n",
        "    veri = False\n",
        "else:\n",
        "    for i in range(2, numeral):\n",
        "        if numeral % i == 0:\n",
        "            veri = False\n",
        "            break\n",
        "print()\n",
        "if veri == True:\n",
        "  print(\"{} é um número primo.\".format(numeral))\n",
        "else:\n",
        "  print(\"{} não é um número primo.\".format(numeral))"
      ],
      "metadata": {
        "colab": {
          "base_uri": "https://localhost:8080/"
        },
        "id": "lwLZA5HKGbwd",
        "outputId": "e65a6364-52f7-4287-fe98-3879e07b4a2e"
      },
      "execution_count": 22,
      "outputs": [
        {
          "output_type": "stream",
          "name": "stdout",
          "text": [
            "Digite um número inteiro: \n",
            "2\n",
            "\n",
            "2 é um número primo.\n"
          ]
        }
      ]
    }
  ]
}